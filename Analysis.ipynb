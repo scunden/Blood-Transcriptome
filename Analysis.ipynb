{
 "cells": [
  {
   "cell_type": "markdown",
   "id": "2d2a2f67",
   "metadata": {},
   "source": [
    "## Data Import and Prep"
   ]
  },
  {
   "cell_type": "code",
   "execution_count": 78,
   "id": "610222fd",
   "metadata": {
    "ExecuteTime": {
     "end_time": "2021-09-30T15:56:45.543205Z",
     "start_time": "2021-09-30T15:56:45.537204Z"
    }
   },
   "outputs": [],
   "source": [
    "import pandas as pd\n",
    "import numpy as np\n",
    "from sklearn.feature_selection import mutual_info_classif, SelectKBest\n",
    "from sklearn.linear_model import LogisticRegression\n",
    "from sklearn import metrics\n",
    "from sklearn.metrics import roc_auc_score, confusion_matrix, precision_score, recall_score, accuracy_score\n",
    "from sklearn.ensemble import RandomForestClassifier, VotingClassifier\n",
    "from sklearn.model_selection import cross_val_predict, StratifiedKFold, cross_val_score\n",
    "from sklearn.svm import SVC\n",
    "import seaborn as sns\n",
    "import matplotlib.pyplot as plt   \n",
    "from sklearn.model_selection import StratifiedShuffleSplit\n"
   ]
  },
  {
   "cell_type": "code",
   "execution_count": 58,
   "id": "4b0389d8",
   "metadata": {
    "ExecuteTime": {
     "end_time": "2021-09-30T15:37:13.391327Z",
     "start_time": "2021-09-30T15:37:13.382329Z"
    }
   },
   "outputs": [],
   "source": [
    "def plot_confusion_matrix(cm):\n",
    "    ax= plt.subplot()\n",
    "    sns.heatmap(cm, annot=True, fmt='g', ax=ax);  #annot=True to annotate cells, ftm='g' to disable scientific notation\n",
    "\n",
    "    # labels, title and ticks\n",
    "    ax.set_xlabel('Predicted labels');ax.set_ylabel('True labels'); \n",
    "    ax.set_title('Confusion Matrix'); \n",
    "    ax.xaxis.set_ticklabels(['0', '1']); ax.yaxis.set_ticklabels(['0', '1']);\n",
    "    \n",
    "def plot_roc(y, pred, title):\n",
    "    fpr, tpr, _ = metrics.roc_curve(pred, y)\n",
    "    auc = metrics.roc_auc_score(pred, y)\n",
    "    plt.plot(fpr,tpr,label=\"AUC=\"+str(auc))\n",
    "    plt.legend(loc=4)\n",
    "    plt.xlabel(\"False Positive Rate\")\n",
    "    plt.ylabel(\"True Positive Rate\")\n",
    "    plt.title(title)\n",
    "    plt.show()"
   ]
  },
  {
   "cell_type": "code",
   "execution_count": 6,
   "id": "8b5f1f77",
   "metadata": {
    "ExecuteTime": {
     "end_time": "2021-09-30T15:04:28.966738Z",
     "start_time": "2021-09-30T15:04:25.719741Z"
    }
   },
   "outputs": [
    {
     "name": "stderr",
     "output_type": "stream",
     "text": [
      "C:\\Users\\steve\\anaconda3\\lib\\site-packages\\IPython\\core\\interactiveshell.py:3437: DtypeWarning: Columns (1,2,3,4,5,6,7,8,9,10,11,12,13,14,15,16,17,18,19,20,21,22,23,24,25,26,27,28,29,30,31,32,33,34,35,36,37,38,39,40,41,42,43,44,45,46,47,48,49,50,51,52,53,54,55,56,57,58,59,60,61,62,63,64,65,66,67,68,69,70,71,72,73,74,75,76,77,78,79,80,81,82,83,84,85,86,87,88,89,90,91,92,93,94,95,96,97,98,99,100,101,102,103,104,105,106,107,108,109,110,111,112,113,114,115,116,117,118,119,120,121,122,123,124,125,126,127,128,129,130,131,132,133,134,135,136,137,138,139) have mixed types.Specify dtype option on import or set low_memory=False.\n",
      "  exec(code_obj, self.user_global_ns, self.user_ns)\n",
      "C:\\Users\\steve\\anaconda3\\lib\\site-packages\\pandas\\core\\indexing.py:1732: SettingWithCopyWarning: \n",
      "A value is trying to be set on a copy of a slice from a DataFrame\n",
      "\n",
      "See the caveats in the documentation: https://pandas.pydata.org/pandas-docs/stable/user_guide/indexing.html#returning-a-view-versus-a-copy\n",
      "  self._setitem_single_block(indexer, value, name)\n",
      "C:\\Users\\steve\\anaconda3\\lib\\site-packages\\pandas\\core\\indexing.py:723: SettingWithCopyWarning: \n",
      "A value is trying to be set on a copy of a slice from a DataFrame\n",
      "\n",
      "See the caveats in the documentation: https://pandas.pydata.org/pandas-docs/stable/user_guide/indexing.html#returning-a-view-versus-a-copy\n",
      "  iloc._setitem_with_indexer(indexer, value, self.name)\n"
     ]
    }
   ],
   "source": [
    "df = pd.read_csv('normalizedbloodOApatientsdata.csv', header=None)\n",
    "df = df.T\n",
    "df = df.drop(df.index[0]).rename(columns=df.iloc[0])\n",
    "\n",
    "df = df.dropna(axis='columns')\n",
    "df_gene = df[[x for x in df.columns if \"ILMN\" in x ]]\n",
    "df_gene = df_gene.astype('float', copy=False)\n",
    "df_cat = df[[x for x in df.columns if \"ILMN\" not in x ]]\n",
    "\n",
    "df_ch1 = df_cat['!Sample_characteristics_ch1']\n",
    "colnames = []\n",
    "for col in range(df_ch1.shape[1]):\n",
    "    colnames.append(df_cat['!Sample_characteristics_ch1'].iloc[:,col].str.split(':').str[0].unique()[0]) \n",
    "    df_ch1.iloc[:,col] = df_ch1.iloc[:,col].str.split(':').str[1]\n",
    "    \n",
    "df_ch1.columns = colnames    \n",
    "df_ch1 = df_ch1.iloc[:, 0:5]\n",
    "\n",
    "df = pd.concat([df_ch1, df_gene], axis=1)\n",
    "df['age (yrs)'] = df['age (yrs)'].astype('int', copy=False)"
   ]
  },
  {
   "cell_type": "code",
   "execution_count": 7,
   "id": "43fe1b59",
   "metadata": {
    "ExecuteTime": {
     "end_time": "2021-09-30T15:04:29.059738Z",
     "start_time": "2021-09-30T15:04:28.967741Z"
    }
   },
   "outputs": [],
   "source": [
    "gender = pd.get_dummies(df['gender'])\n",
    "disease = pd.get_dummies(df['disease state'])\n",
    "# Drop column B as it is now encoded\n",
    "df = df.drop(['gender','disease state'],axis = 1)\n",
    "# Join the encoded df\n",
    "df = df.join(gender)\n",
    "df = df.join(disease)\n",
    "df.columns = df.columns.str.strip()"
   ]
  },
  {
   "cell_type": "markdown",
   "id": "69d40908",
   "metadata": {},
   "source": [
    "## Feature Selection using Mutual Info"
   ]
  },
  {
   "cell_type": "code",
   "execution_count": 8,
   "id": "edb753d6",
   "metadata": {
    "ExecuteTime": {
     "end_time": "2021-09-30T15:05:33.543256Z",
     "start_time": "2021-09-30T15:04:38.825395Z"
    }
   },
   "outputs": [],
   "source": [
    "# Number of features to retain\n",
    "k = 20\n",
    "\n",
    "# create the SelectKBest with the mutual info strategy.\n",
    "selection = SelectKBest(mutual_info_classif, k=k).fit(df_gene, df['case'])\n",
    "features = df_gene.columns[selection.get_support()]\n",
    "features = ['Male','age (yrs)']+features.tolist()"
   ]
  },
  {
   "cell_type": "markdown",
   "id": "37baf26d",
   "metadata": {
    "ExecuteTime": {
     "end_time": "2021-09-28T16:30:38.480713Z",
     "start_time": "2021-09-28T16:30:38.465716Z"
    }
   },
   "source": [
    "## Model Building - K-Fold Cross Validation"
   ]
  },
  {
   "cell_type": "markdown",
   "id": "dc67c0b7",
   "metadata": {},
   "source": [
    "### Logistic Regression with L1 Penalty"
   ]
  },
  {
   "cell_type": "code",
   "execution_count": 11,
   "id": "bddd08dc",
   "metadata": {
    "ExecuteTime": {
     "end_time": "2021-09-30T15:05:57.148097Z",
     "start_time": "2021-09-30T15:05:57.098089Z"
    }
   },
   "outputs": [
    {
     "name": "stdout",
     "output_type": "stream",
     "text": [
      "Average Accuracy: 0.8925377736663583\n"
     ]
    }
   ],
   "source": [
    "lasso_log_reg = LogisticRegression(penalty='l1',solver='liblinear')\n",
    "llr_scores = cross_val_score(lasso_log_reg,df[features], df['case'], cv=3)\n",
    "llr_mean_acc = np.mean(llr_scores)\n",
    "print(\"Average Accuracy: {}\".format(llr_mean_acc))"
   ]
  },
  {
   "cell_type": "code",
   "execution_count": 12,
   "id": "561509d7",
   "metadata": {
    "ExecuteTime": {
     "end_time": "2021-09-30T15:06:09.374077Z",
     "start_time": "2021-09-30T15:06:09.321081Z"
    }
   },
   "outputs": [],
   "source": [
    "llr_pred = cross_val_predict(LogisticRegression(penalty='l1',solver='liblinear'),  df[features], df['case'], cv=3)"
   ]
  },
  {
   "cell_type": "code",
   "execution_count": 19,
   "id": "26e4afe2",
   "metadata": {
    "ExecuteTime": {
     "end_time": "2021-09-30T15:11:49.021021Z",
     "start_time": "2021-09-30T15:11:48.902022Z"
    }
   },
   "outputs": [
    {
     "data": {
      "image/png": "[encoded data removed]",
      "text/plain": [
       "<Figure size 432x288 with 2 Axes>"
      ]
     },
     "metadata": {
      "needs_background": "light"
     },
     "output_type": "display_data"
    }
   ],
   "source": [
    "plot_confusion_matrix(confusion_matrix(llr_pred, df['case']))"
   ]
  },
  {
   "cell_type": "code",
   "execution_count": 21,
   "id": "1032be70",
   "metadata": {
    "ExecuteTime": {
     "end_time": "2021-09-30T15:14:07.343091Z",
     "start_time": "2021-09-30T15:14:07.323089Z"
    }
   },
   "outputs": [
    {
     "name": "stdout",
     "output_type": "stream",
     "text": [
      "Precision Score: 0.9528301886792453\n",
      "Recall Score: 0.9099099099099099\n"
     ]
    }
   ],
   "source": [
    "# Ratio of correctly predicted positive instances out of all positive instances\n",
    "llr_prec = precision_score(llr_pred, df['case'])\n",
    "\n",
    "# Ratio of correctly predicted positive instances to the all observations in actual class\n",
    "llr_rec = recall_score(llr_pred, df['case'])\n",
    "print(\"Precision Score: {}\\nRecall Score: {}\".format(llr_prec,llr_rec))"
   ]
  },
  {
   "cell_type": "code",
   "execution_count": 59,
   "id": "41f66b25",
   "metadata": {
    "ExecuteTime": {
     "end_time": "2021-09-30T15:37:16.960326Z",
     "start_time": "2021-09-30T15:37:16.840329Z"
    }
   },
   "outputs": [
    {
     "data": {
      "image/png": "[encoded data removed]",
      "text/plain": [
       "<Figure size 432x288 with 1 Axes>"
      ]
     },
     "metadata": {
      "needs_background": "light"
     },
     "output_type": "display_data"
    }
   ],
   "source": [
    "plot_roc(df['case'], llr_pred, \"ROC Logistic Regression with L1 Penalty\")"
   ]
  },
  {
   "cell_type": "markdown",
   "id": "6024c7af",
   "metadata": {},
   "source": [
    "### Random Forest"
   ]
  },
  {
   "cell_type": "code",
   "execution_count": 39,
   "id": "e0d68349",
   "metadata": {
    "ExecuteTime": {
     "end_time": "2021-09-30T15:29:14.611686Z",
     "start_time": "2021-09-30T15:27:48.516111Z"
    }
   },
   "outputs": [],
   "source": [
    "acc = []\n",
    "leaves  =[]\n",
    "for max_leaf_node in range(2,100):\n",
    "    random_forest = RandomForestClassifier(n_estimators=500, max_leaf_nodes=max_leaf_node, n_jobs=-1)\n",
    "    rf_scores = cross_val_score(random_forest,df[features], df['case'], cv=3)\n",
    "    rf_mean_acc = np.mean(rf_scores)\n",
    "    acc.append(rf_mean_acc)\n",
    "    leaves.append(max_leaf_node)"
   ]
  },
  {
   "cell_type": "code",
   "execution_count": 40,
   "id": "0fd17f8b",
   "metadata": {
    "ExecuteTime": {
     "end_time": "2021-09-30T15:29:14.737688Z",
     "start_time": "2021-09-30T15:29:14.613690Z"
    }
   },
   "outputs": [
    {
     "data": {
      "image/png": "[encoded data removed]",
      "text/plain": [
       "<Figure size 432x288 with 1 Axes>"
      ]
     },
     "metadata": {
      "needs_background": "light"
     },
     "output_type": "display_data"
    }
   ],
   "source": [
    "plt.plot(leaves, acc)\n",
    "plt.xlabel(\"Max Leaf Nodes\")\n",
    "plt.ylabel(\"Accuracy\")\n",
    "plt.title(\"Optimal Max Leaf Nodes\")\n",
    "plt.show()"
   ]
  },
  {
   "cell_type": "code",
   "execution_count": 49,
   "id": "981079cb",
   "metadata": {
    "ExecuteTime": {
     "end_time": "2021-09-30T15:32:24.748537Z",
     "start_time": "2021-09-30T15:32:23.916524Z"
    }
   },
   "outputs": [
    {
     "name": "stdout",
     "output_type": "stream",
     "text": [
      "Average Accuracy: 0.913968547641073\n"
     ]
    }
   ],
   "source": [
    "random_forest = RandomForestClassifier(n_estimators=500, max_leaf_nodes=20, n_jobs=-1)\n",
    "rf_scores = cross_val_score(random_forest,df[features], df['case'], cv=3)\n",
    "rf_mean_acc = np.mean(rf_scores)\n",
    "print(\"Average Accuracy: {}\".format(rf_mean_acc))"
   ]
  },
  {
   "cell_type": "code",
   "execution_count": 50,
   "id": "099f2d2e",
   "metadata": {
    "ExecuteTime": {
     "end_time": "2021-09-30T15:33:13.960011Z",
     "start_time": "2021-09-30T15:33:12.989039Z"
    }
   },
   "outputs": [
    {
     "data": {
      "image/png": "[encoded data removed]",
      "text/plain": [
       "<Figure size 432x288 with 2 Axes>"
      ]
     },
     "metadata": {
      "needs_background": "light"
     },
     "output_type": "display_data"
    }
   ],
   "source": [
    "rf_pred = cross_val_predict(random_forest,  df[features], df['case'], cv=3)\n",
    "plot_confusion_matrix(confusion_matrix(rf_pred, df['case']))"
   ]
  },
  {
   "cell_type": "code",
   "execution_count": 51,
   "id": "771481a9",
   "metadata": {
    "ExecuteTime": {
     "end_time": "2021-09-30T15:33:42.936554Z",
     "start_time": "2021-09-30T15:33:42.930558Z"
    }
   },
   "outputs": [
    {
     "name": "stdout",
     "output_type": "stream",
     "text": [
      "Precision Score: 0.9716981132075472\n",
      "Recall Score: 0.911504424778761\n"
     ]
    }
   ],
   "source": [
    "# Ratio of correctly predicted positive instances out of all positive instances\n",
    "rf_prec = precision_score(rf_pred, df['case'])\n",
    "\n",
    "# Ratio of correctly predicted positive instances to the all observations in actual class\n",
    "rf_rec = recall_score(rf_pred, df['case'])\n",
    "print(\"Precision Score: {}\\nRecall Score: {}\".format(rf_prec,rf_rec))"
   ]
  },
  {
   "cell_type": "code",
   "execution_count": 60,
   "id": "413b6060",
   "metadata": {
    "ExecuteTime": {
     "end_time": "2021-09-30T15:37:18.655327Z",
     "start_time": "2021-09-30T15:37:18.540330Z"
    }
   },
   "outputs": [
    {
     "data": {
      "image/png": "[encoded data removed]",
      "text/plain": [
       "<Figure size 432x288 with 1 Axes>"
      ]
     },
     "metadata": {
      "needs_background": "light"
     },
     "output_type": "display_data"
    }
   ],
   "source": [
    "plot_roc(df['case'], rf_pred, \"ROC Random Forest\")"
   ]
  },
  {
   "cell_type": "markdown",
   "id": "f5654d28",
   "metadata": {},
   "source": [
    "### SVM"
   ]
  },
  {
   "cell_type": "code",
   "execution_count": 65,
   "id": "bb6db62c",
   "metadata": {
    "ExecuteTime": {
     "end_time": "2021-09-30T15:40:29.340218Z",
     "start_time": "2021-09-30T15:40:29.311221Z"
    }
   },
   "outputs": [
    {
     "name": "stdout",
     "output_type": "stream",
     "text": [
      "Average Accuracy: 0.7625655257477645\n"
     ]
    }
   ],
   "source": [
    "svc_clf = SVC()\n",
    "svc_scores = cross_val_score(svc_clf, df[features], df['case'], cv=3)\n",
    "svc_mean_acc = np.mean(svc_scores)\n",
    "print(\"Average Accuracy: {}\".format(svc_mean_acc))"
   ]
  },
  {
   "cell_type": "code",
   "execution_count": 66,
   "id": "553d40fc",
   "metadata": {
    "ExecuteTime": {
     "end_time": "2021-09-30T15:40:30.159005Z",
     "start_time": "2021-09-30T15:40:30.151006Z"
    }
   },
   "outputs": [
    {
     "data": {
      "text/plain": [
       "array([0.76595745, 0.76086957, 0.76086957])"
      ]
     },
     "execution_count": 66,
     "metadata": {},
     "output_type": "execute_result"
    }
   ],
   "source": [
    "svc_scores"
   ]
  },
  {
   "cell_type": "code",
   "execution_count": 67,
   "id": "325b1bad",
   "metadata": {
    "ExecuteTime": {
     "end_time": "2021-09-30T15:42:39.671452Z",
     "start_time": "2021-09-30T15:42:39.540453Z"
    }
   },
   "outputs": [
    {
     "data": {
      "image/png": "[encoded data removed]",
      "text/plain": [
       "<Figure size 432x288 with 2 Axes>"
      ]
     },
     "metadata": {
      "needs_background": "light"
     },
     "output_type": "display_data"
    }
   ],
   "source": [
    "svc_pred = cross_val_predict(svc_clf,  df[features], df['case'], cv=3)\n",
    "plot_confusion_matrix(confusion_matrix(svc_pred, df['case']))"
   ]
  },
  {
   "cell_type": "code",
   "execution_count": 68,
   "id": "069dd34f",
   "metadata": {
    "ExecuteTime": {
     "end_time": "2021-09-30T15:43:53.485807Z",
     "start_time": "2021-09-30T15:43:53.474806Z"
    }
   },
   "outputs": [
    {
     "name": "stdout",
     "output_type": "stream",
     "text": [
      "Precision Score: 1.0\n",
      "Recall Score: 0.762589928057554\n"
     ]
    }
   ],
   "source": [
    "# Ratio of correctly predicted positive instances out of all positive instances\n",
    "svc_prec = precision_score(svc_pred, df['case'])\n",
    "\n",
    "# Ratio of correctly predicted positive instances to the all observations in actual class\n",
    "svc_rec = recall_score(svc_pred, df['case'])\n",
    "print(\"Precision Score: {}\\nRecall Score: {}\".format(svc_prec,svc_rec))"
   ]
  },
  {
   "cell_type": "markdown",
   "id": "a611725f",
   "metadata": {},
   "source": [
    "## Model Building - Voting Classifier"
   ]
  },
  {
   "cell_type": "markdown",
   "id": "e4527f8c",
   "metadata": {},
   "source": [
    "### Train Test Split"
   ]
  },
  {
   "cell_type": "code",
   "execution_count": 73,
   "id": "fab7ebf4",
   "metadata": {
    "ExecuteTime": {
     "end_time": "2021-09-30T15:49:14.224962Z",
     "start_time": "2021-09-30T15:49:14.199963Z"
    }
   },
   "outputs": [],
   "source": [
    "df = df.reset_index()"
   ]
  },
  {
   "cell_type": "code",
   "execution_count": 75,
   "id": "1a56ab8c",
   "metadata": {
    "ExecuteTime": {
     "end_time": "2021-09-30T15:49:17.397962Z",
     "start_time": "2021-09-30T15:49:17.357962Z"
    }
   },
   "outputs": [],
   "source": [
    "split = StratifiedShuffleSplit(n_splits=1, test_size=0.4, random_state=42)\n",
    "for train_index, test_index in split.split(df, df['case']):\n",
    "    strat_train_set = df.loc[train_index]\n",
    "    strat_test_set = df.loc[test_index]"
   ]
  },
  {
   "cell_type": "code",
   "execution_count": 86,
   "id": "5cc727e7",
   "metadata": {
    "ExecuteTime": {
     "end_time": "2021-09-30T15:59:40.421190Z",
     "start_time": "2021-09-30T15:59:40.399191Z"
    }
   },
   "outputs": [],
   "source": [
    "train_x, train_y = strat_train_set[features], strat_train_set['case']\n",
    "test_x, test_y = strat_test_set[features], strat_test_set['case']"
   ]
  },
  {
   "cell_type": "code",
   "execution_count": 93,
   "id": "64eb8dca",
   "metadata": {
    "ExecuteTime": {
     "end_time": "2021-09-30T16:01:11.111722Z",
     "start_time": "2021-09-30T16:01:11.102722Z"
    }
   },
   "outputs": [],
   "source": [
    "llr_clf = LogisticRegression(penalty='l1',solver='liblinear') \n",
    "svc_clf = SVC()\n",
    "rf_clf = RandomForestClassifier(n_estimators=500, max_leaf_nodes=20, n_jobs=-1)\n",
    "voting_clf_hard = VotingClassifier(estimators=[('llr', llr_clf),('rf',rf_clf), ('svc', svc_clf)], voting='hard')\n",
    "voting_clf_soft = VotingClassifier(estimators=[('llr', llr_clf),('rf',rf_clf), ('svc', SVC(probability=True))], voting='soft')"
   ]
  },
  {
   "cell_type": "code",
   "execution_count": 94,
   "id": "a5a65173",
   "metadata": {
    "ExecuteTime": {
     "end_time": "2021-09-30T16:01:13.003722Z",
     "start_time": "2021-09-30T16:01:11.852722Z"
    }
   },
   "outputs": [
    {
     "name": "stdout",
     "output_type": "stream",
     "text": [
      "LogisticRegression 0.9642857142857143\n",
      "SVC 0.7678571428571429\n",
      "RandomForestClassifier 0.9642857142857143\n",
      "VotingClassifier 0.9642857142857143\n",
      "VotingClassifier 0.9642857142857143\n"
     ]
    }
   ],
   "source": [
    "for clf in (llr_clf, svc_clf, rf_clf, voting_clf_hard, voting_clf_soft):\n",
    "    clf.fit(train_x, train_y)\n",
    "    y_pred = clf.predict(test_x)\n",
    "    print(clf.__class__.__name__, accuracy_score(test_y, y_pred))"
   ]
  },
  {
   "cell_type": "markdown",
   "id": "be9d8dc6",
   "metadata": {},
   "source": [
    "#### In Sample Eval"
   ]
  },
  {
   "cell_type": "code",
   "execution_count": 95,
   "id": "2612ffb0",
   "metadata": {
    "ExecuteTime": {
     "end_time": "2021-09-30T16:03:27.606505Z",
     "start_time": "2021-09-30T16:03:27.190506Z"
    }
   },
   "outputs": [
    {
     "data": {
      "image/png": "[encoded data removed]",
      "text/plain": [
       "<Figure size 432x288 with 2 Axes>"
      ]
     },
     "metadata": {
      "needs_background": "light"
     },
     "output_type": "display_data"
    }
   ],
   "source": [
    "# Out of Sample Confusion Matrix\n",
    "voting_clf_hard.fit(train_x, train_y)\n",
    "y_pred = voting_clf_hard.predict(test_x)\n",
    "plot_confusion_matrix(confusion_matrix(y_pred, test_y))"
   ]
  },
  {
   "cell_type": "code",
   "execution_count": 96,
   "id": "1caea6d2",
   "metadata": {
    "ExecuteTime": {
     "end_time": "2021-09-30T16:04:15.565231Z",
     "start_time": "2021-09-30T16:04:15.550233Z"
    }
   },
   "outputs": [
    {
     "name": "stdout",
     "output_type": "stream",
     "text": [
      "Precision Score: 1.0\n",
      "Recall Score: 0.9555555555555556\n"
     ]
    }
   ],
   "source": [
    "# Ratio of correctly predicted positive instances out of all positive instances\n",
    "voting_prec = precision_score(y_pred, test_y)\n",
    "\n",
    "# Ratio of correctly predicted positive instances to the all observations in actual class\n",
    "voting_rec = recall_score(y_pred, test_y)\n",
    "print(\"Precision Score: {}\\nRecall Score: {}\".format(voting_prec,voting_rec))"
   ]
  },
  {
   "cell_type": "markdown",
   "id": "48885860",
   "metadata": {},
   "source": [
    "#### Out of Sample Eval"
   ]
  },
  {
   "cell_type": "code",
   "execution_count": 98,
   "id": "9fed0807",
   "metadata": {
    "ExecuteTime": {
     "end_time": "2021-09-30T16:09:53.851431Z",
     "start_time": "2021-09-30T16:09:53.683431Z"
    }
   },
   "outputs": [
    {
     "data": {
      "image/png": "[encoded data removed]",
      "text/plain": [
       "<Figure size 432x288 with 2 Axes>"
      ]
     },
     "metadata": {
      "needs_background": "light"
     },
     "output_type": "display_data"
    }
   ],
   "source": [
    "# In Sample Matrix\n",
    "y_train_pred = voting_clf_hard.predict(train_x)\n",
    "plot_confusion_matrix(confusion_matrix(y_train_pred, train_y))"
   ]
  },
  {
   "cell_type": "code",
   "execution_count": 101,
   "id": "eb032f74",
   "metadata": {
    "ExecuteTime": {
     "end_time": "2021-09-30T16:13:46.736762Z",
     "start_time": "2021-09-30T16:13:46.724768Z"
    }
   },
   "outputs": [
    {
     "name": "stdout",
     "output_type": "stream",
     "text": [
      "Precision Score: 1.0\n",
      "Recall Score: 0.9555555555555556\n"
     ]
    }
   ],
   "source": [
    "# Ratio of correctly predicted positive instances out of all positive instances\n",
    "voting_prec_train = precision_score(y_train_pred, train_y)\n",
    "\n",
    "# Ratio of correctly predicted positive instances to the all observations in actual class\n",
    "voting_rec_train = recall_score(y_pred, test_y)\n",
    "print(\"Precision Score: {}\\nRecall Score: {}\".format(voting_prec_train,voting_rec_train))"
   ]
  },
  {
   "cell_type": "markdown",
   "id": "d153e800",
   "metadata": {},
   "source": [
    "### K Fold Cross Val"
   ]
  },
  {
   "cell_type": "code",
   "execution_count": 97,
   "id": "27ecfce4",
   "metadata": {
    "ExecuteTime": {
     "end_time": "2021-09-30T16:06:37.233736Z",
     "start_time": "2021-09-30T16:06:34.515632Z"
    }
   },
   "outputs": [
    {
     "name": "stdout",
     "output_type": "stream",
     "text": [
      "LogisticRegression Average Accuracy: 0.8925377736663583\n",
      "SVC Average Accuracy: 0.7625655257477645\n",
      "RandomForestClassifier Average Accuracy: 0.8997841504779526\n",
      "VotingClassifier Average Accuracy: 0.8781991982732039\n",
      "VotingClassifier Average Accuracy: 0.8925377736663583\n"
     ]
    }
   ],
   "source": [
    "for clf in (llr_clf, svc_clf, rf_clf, voting_clf_hard, voting_clf_soft):\n",
    "    \n",
    "    scores = cross_val_score(clf, df[features], df['case'], cv=3)\n",
    "    mean_acc = np.mean(scores)\n",
    "    print(\"{} Average Accuracy: {}\".format(clf.__class__.__name__, mean_acc))"
   ]
  },
  {
   "cell_type": "code",
   "execution_count": null,
   "id": "6aa12bae",
   "metadata": {},
   "outputs": [],
   "source": []
  }
 ],
 "metadata": {
  "kernelspec": {
   "display_name": "Python 3",
   "language": "python",
   "name": "python3"
  },
  "language_info": {
   "codemirror_mode": {
    "name": "ipython",
    "version": 3
   },
   "file_extension": ".py",
   "mimetype": "text/x-python",
   "name": "python",
   "nbconvert_exporter": "python",
   "pygments_lexer": "ipython3",
   "version": "3.8.8"
  },
  "toc": {
   "base_numbering": 1,
   "nav_menu": {},
   "number_sections": true,
   "sideBar": true,
   "skip_h1_title": false,
   "title_cell": "Table of Contents",
   "title_sidebar": "Contents",
   "toc_cell": false,
   "toc_position": {},
   "toc_section_display": true,
   "toc_window_display": true
  }
 },
 "nbformat": 4,
 "nbformat_minor": 5
}
